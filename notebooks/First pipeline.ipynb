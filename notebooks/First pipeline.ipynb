{
 "cells": [
  {
   "cell_type": "markdown",
   "id": "8d721120",
   "metadata": {},
   "source": [
    "## Lecture du dataframe"
   ]
  },
  {
   "cell_type": "code",
   "execution_count": 67,
   "id": "e0896baf",
   "metadata": {},
   "outputs": [],
   "source": [
    "import pandas as pd\n",
    "import numpy as np\n",
    "import src\n",
    "from src.data.securite_routiere import print_memory\n",
    "from src import INTDIR, RAWDIR"
   ]
  },
  {
   "cell_type": "code",
   "execution_count": 68,
   "id": "a8a685a4",
   "metadata": {},
   "outputs": [
    {
     "name": "stdout",
     "output_type": "stream",
     "text": [
      "(56518, 12)\n"
     ]
    },
    {
     "data": {
      "text/html": [
       "<div>\n",
       "<style scoped>\n",
       "    .dataframe tbody tr th:only-of-type {\n",
       "        vertical-align: middle;\n",
       "    }\n",
       "\n",
       "    .dataframe tbody tr th {\n",
       "        vertical-align: top;\n",
       "    }\n",
       "\n",
       "    .dataframe thead th {\n",
       "        text-align: right;\n",
       "    }\n",
       "</style>\n",
       "<table border=\"1\" class=\"dataframe\">\n",
       "  <thead>\n",
       "    <tr style=\"text-align: right;\">\n",
       "      <th></th>\n",
       "      <th>an_mois_jour_hrmn</th>\n",
       "      <th>Num_Acc</th>\n",
       "      <th>luminosity</th>\n",
       "      <th>dep</th>\n",
       "      <th>com</th>\n",
       "      <th>agglomeration</th>\n",
       "      <th>intersection</th>\n",
       "      <th>weather</th>\n",
       "      <th>collision</th>\n",
       "      <th>adr</th>\n",
       "      <th>lat</th>\n",
       "      <th>long</th>\n",
       "    </tr>\n",
       "  </thead>\n",
       "  <tbody>\n",
       "    <tr>\n",
       "      <th>0</th>\n",
       "      <td>2021-11-30 07:32:00</td>\n",
       "      <td>202100000001</td>\n",
       "      <td>2</td>\n",
       "      <td>30</td>\n",
       "      <td>30319</td>\n",
       "      <td>1</td>\n",
       "      <td>1</td>\n",
       "      <td>1</td>\n",
       "      <td>1</td>\n",
       "      <td>CD 981</td>\n",
       "      <td>44.038958</td>\n",
       "      <td>4.348022</td>\n",
       "    </tr>\n",
       "    <tr>\n",
       "      <th>1</th>\n",
       "      <td>2021-09-25 14:20:00</td>\n",
       "      <td>202100000002</td>\n",
       "      <td>1</td>\n",
       "      <td>51</td>\n",
       "      <td>51544</td>\n",
       "      <td>1</td>\n",
       "      <td>3</td>\n",
       "      <td>1</td>\n",
       "      <td>3</td>\n",
       "      <td>Aire de repos croisement D20E9 après sortie D977</td>\n",
       "      <td>49.242129</td>\n",
       "      <td>4.554546</td>\n",
       "    </tr>\n",
       "    <tr>\n",
       "      <th>2</th>\n",
       "      <td>2021-07-15 07:55:00</td>\n",
       "      <td>202100000003</td>\n",
       "      <td>1</td>\n",
       "      <td>85</td>\n",
       "      <td>85048</td>\n",
       "      <td>2</td>\n",
       "      <td>1</td>\n",
       "      <td>7</td>\n",
       "      <td>6</td>\n",
       "      <td>15 rue François Nicolas</td>\n",
       "      <td>46.921950</td>\n",
       "      <td>-0.964460</td>\n",
       "    </tr>\n",
       "    <tr>\n",
       "      <th>3</th>\n",
       "      <td>2021-03-27 19:45:00</td>\n",
       "      <td>202100000004</td>\n",
       "      <td>5</td>\n",
       "      <td>93</td>\n",
       "      <td>93005</td>\n",
       "      <td>2</td>\n",
       "      <td>2</td>\n",
       "      <td>3</td>\n",
       "      <td>6</td>\n",
       "      <td>Route de Mitry</td>\n",
       "      <td>48.949363</td>\n",
       "      <td>2.519664</td>\n",
       "    </tr>\n",
       "    <tr>\n",
       "      <th>4</th>\n",
       "      <td>2021-02-25 07:20:00</td>\n",
       "      <td>202100000005</td>\n",
       "      <td>5</td>\n",
       "      <td>76</td>\n",
       "      <td>76429</td>\n",
       "      <td>2</td>\n",
       "      <td>1</td>\n",
       "      <td>1</td>\n",
       "      <td>2</td>\n",
       "      <td>PARIS. ROUTE DE</td>\n",
       "      <td>49.408380</td>\n",
       "      <td>1.145810</td>\n",
       "    </tr>\n",
       "    <tr>\n",
       "      <th>...</th>\n",
       "      <td>...</td>\n",
       "      <td>...</td>\n",
       "      <td>...</td>\n",
       "      <td>...</td>\n",
       "      <td>...</td>\n",
       "      <td>...</td>\n",
       "      <td>...</td>\n",
       "      <td>...</td>\n",
       "      <td>...</td>\n",
       "      <td>...</td>\n",
       "      <td>...</td>\n",
       "      <td>...</td>\n",
       "    </tr>\n",
       "    <tr>\n",
       "      <th>56513</th>\n",
       "      <td>2021-01-01 06:10:00</td>\n",
       "      <td>202100056514</td>\n",
       "      <td>3</td>\n",
       "      <td>33</td>\n",
       "      <td>33021</td>\n",
       "      <td>1</td>\n",
       "      <td>1</td>\n",
       "      <td>5</td>\n",
       "      <td>6</td>\n",
       "      <td>None</td>\n",
       "      <td>44.526619</td>\n",
       "      <td>-0.195544</td>\n",
       "    </tr>\n",
       "    <tr>\n",
       "      <th>56514</th>\n",
       "      <td>2021-01-01 10:20:00</td>\n",
       "      <td>202100056515</td>\n",
       "      <td>1</td>\n",
       "      <td>38</td>\n",
       "      <td>38405</td>\n",
       "      <td>1</td>\n",
       "      <td>1</td>\n",
       "      <td>2</td>\n",
       "      <td>6</td>\n",
       "      <td>D520</td>\n",
       "      <td>45.380291</td>\n",
       "      <td>5.704914</td>\n",
       "    </tr>\n",
       "    <tr>\n",
       "      <th>56515</th>\n",
       "      <td>2021-01-01 18:00:00</td>\n",
       "      <td>202100056516</td>\n",
       "      <td>3</td>\n",
       "      <td>26</td>\n",
       "      <td>26064</td>\n",
       "      <td>1</td>\n",
       "      <td>1</td>\n",
       "      <td>2</td>\n",
       "      <td>1</td>\n",
       "      <td>Route départementale 538</td>\n",
       "      <td>44.911210</td>\n",
       "      <td>5.019636</td>\n",
       "    </tr>\n",
       "    <tr>\n",
       "      <th>56516</th>\n",
       "      <td>2021-01-01 10:55:00</td>\n",
       "      <td>202100056517</td>\n",
       "      <td>1</td>\n",
       "      <td>33</td>\n",
       "      <td>33003</td>\n",
       "      <td>1</td>\n",
       "      <td>2</td>\n",
       "      <td>1</td>\n",
       "      <td>6</td>\n",
       "      <td>Voie rapide Bassens Ambes</td>\n",
       "      <td>44.954275</td>\n",
       "      <td>-0.517921</td>\n",
       "    </tr>\n",
       "    <tr>\n",
       "      <th>56517</th>\n",
       "      <td>2021-01-02 18:00:00</td>\n",
       "      <td>202100056518</td>\n",
       "      <td>3</td>\n",
       "      <td>78</td>\n",
       "      <td>78423</td>\n",
       "      <td>1</td>\n",
       "      <td>1</td>\n",
       "      <td>3</td>\n",
       "      <td>1</td>\n",
       "      <td>VOLTA (AVENUE)</td>\n",
       "      <td>48.796670</td>\n",
       "      <td>2.050500</td>\n",
       "    </tr>\n",
       "  </tbody>\n",
       "</table>\n",
       "<p>56518 rows × 12 columns</p>\n",
       "</div>"
      ],
      "text/plain": [
       "        an_mois_jour_hrmn       Num_Acc  luminosity dep    com  agglomeration   \n",
       "0     2021-11-30 07:32:00  202100000001           2  30  30319              1  \\\n",
       "1     2021-09-25 14:20:00  202100000002           1  51  51544              1   \n",
       "2     2021-07-15 07:55:00  202100000003           1  85  85048              2   \n",
       "3     2021-03-27 19:45:00  202100000004           5  93  93005              2   \n",
       "4     2021-02-25 07:20:00  202100000005           5  76  76429              2   \n",
       "...                   ...           ...         ...  ..    ...            ...   \n",
       "56513 2021-01-01 06:10:00  202100056514           3  33  33021              1   \n",
       "56514 2021-01-01 10:20:00  202100056515           1  38  38405              1   \n",
       "56515 2021-01-01 18:00:00  202100056516           3  26  26064              1   \n",
       "56516 2021-01-01 10:55:00  202100056517           1  33  33003              1   \n",
       "56517 2021-01-02 18:00:00  202100056518           3  78  78423              1   \n",
       "\n",
       "       intersection  weather  collision   \n",
       "0                 1        1          1  \\\n",
       "1                 3        1          3   \n",
       "2                 1        7          6   \n",
       "3                 2        3          6   \n",
       "4                 1        1          2   \n",
       "...             ...      ...        ...   \n",
       "56513             1        5          6   \n",
       "56514             1        2          6   \n",
       "56515             1        2          1   \n",
       "56516             2        1          6   \n",
       "56517             1        3          1   \n",
       "\n",
       "                                                    adr        lat      long  \n",
       "0                                                CD 981  44.038958  4.348022  \n",
       "1      Aire de repos croisement D20E9 après sortie D977  49.242129  4.554546  \n",
       "2                               15 rue François Nicolas  46.921950 -0.964460  \n",
       "3                                        Route de Mitry  48.949363  2.519664  \n",
       "4                                       PARIS. ROUTE DE  49.408380  1.145810  \n",
       "...                                                 ...        ...       ...  \n",
       "56513                                              None  44.526619 -0.195544  \n",
       "56514                                              D520  45.380291  5.704914  \n",
       "56515                          Route départementale 538  44.911210  5.019636  \n",
       "56516                         Voie rapide Bassens Ambes  44.954275 -0.517921  \n",
       "56517                                    VOLTA (AVENUE)  48.796670  2.050500  \n",
       "\n",
       "[56518 rows x 12 columns]"
      ]
     },
     "execution_count": 68,
     "metadata": {},
     "output_type": "execute_result"
    }
   ],
   "source": [
    "fn = INTDIR / \"carcteristiques-2021.parquet\"\n",
    "df = pd.read_parquet(fn)\n",
    "print(df.shape)\n",
    "df"
   ]
  },
  {
   "cell_type": "markdown",
   "id": "6ebacd0f",
   "metadata": {},
   "source": [
    "##  Good practices"
   ]
  },
  {
   "cell_type": "code",
   "execution_count": 69,
   "id": "23d40cbf",
   "metadata": {},
   "outputs": [
    {
     "data": {
      "text/plain": [
       "an_mois_jour_hrmn    datetime64[ns]\n",
       "Num_Acc                       int64\n",
       "luminosity                    int64\n",
       "dep                          object\n",
       "com                          object\n",
       "agglomeration                 int64\n",
       "intersection                  int64\n",
       "weather                       int64\n",
       "collision                     int64\n",
       "adr                          object\n",
       "lat                         float64\n",
       "long                        float64\n",
       "dtype: object"
      ]
     },
     "execution_count": 69,
     "metadata": {},
     "output_type": "execute_result"
    }
   ],
   "source": [
    "df.dtypes"
   ]
  },
  {
   "cell_type": "code",
   "execution_count": 70,
   "id": "8e04969e",
   "metadata": {},
   "outputs": [],
   "source": [
    "def print_memory(df, cols=None):\n",
    "    \"\"\"\n",
    "    Prints the memory consumed by each individual column of the DataFrame.\n",
    "    \"\"\"\n",
    "    cols = cols or df.columns\n",
    "    mem = np.round(df[cols].memory_usage(deep=True) / 1e6, 1)\n",
    "    print(\"total_memory = {}MB\".format(np.round(mem.sum(), 1)))\n",
    "    return mem "
   ]
  },
  {
   "cell_type": "code",
   "execution_count": 71,
   "id": "cfd3a1d4",
   "metadata": {},
   "outputs": [
    {
     "name": "stdout",
     "output_type": "stream",
     "text": [
      "total_memory = 15.6MB\n"
     ]
    },
    {
     "data": {
      "text/plain": [
       "Index                0.0\n",
       "an_mois_jour_hrmn    0.5\n",
       "Num_Acc              0.5\n",
       "luminosity           0.5\n",
       "dep                  3.3\n",
       "com                  3.5\n",
       "agglomeration        0.5\n",
       "intersection         0.5\n",
       "weather              0.5\n",
       "collision            0.5\n",
       "adr                  4.3\n",
       "lat                  0.5\n",
       "long                 0.5\n",
       "dtype: float64"
      ]
     },
     "execution_count": 71,
     "metadata": {},
     "output_type": "execute_result"
    }
   ],
   "source": [
    "print_memory(df)"
   ]
  },
  {
   "cell_type": "code",
   "execution_count": 72,
   "id": "d15c569b",
   "metadata": {},
   "outputs": [
    {
     "name": "stdout",
     "output_type": "stream",
     "text": [
      "total_memory = 3.0MB\n"
     ]
    },
    {
     "data": {
      "text/plain": [
       "Index            0.0\n",
       "Num_Acc          0.5\n",
       "luminosity       0.5\n",
       "agglomeration    0.5\n",
       "intersection     0.5\n",
       "weather          0.5\n",
       "collision        0.5\n",
       "dtype: float64"
      ]
     },
     "execution_count": 72,
     "metadata": {},
     "output_type": "execute_result"
    }
   ],
   "source": [
    "int_cols = list(df.select_dtypes(\"integer\").columns)\n",
    "print_memory(df, int_cols)"
   ]
  },
  {
   "cell_type": "code",
   "execution_count": 73,
   "id": "7e4f5fb9",
   "metadata": {},
   "outputs": [
    {
     "data": {
      "text/plain": [
       "Num_Acc          int64\n",
       "luminosity        int8\n",
       "agglomeration     int8\n",
       "intersection      int8\n",
       "weather           int8\n",
       "collision         int8\n",
       "dtype: object"
      ]
     },
     "execution_count": 73,
     "metadata": {},
     "output_type": "execute_result"
    }
   ],
   "source": [
    "encodings = [np.int8, np.int16, np.int32]\n",
    "for c in int_cols:\n",
    "    m = np.abs(df[c]).max()\n",
    "    for e in encodings:\n",
    "        if m < np.iinfo(e).max:\n",
    "            df[c] = e(df[c])\n",
    "            break\n",
    "df[int_cols].dtypes"
   ]
  },
  {
   "cell_type": "code",
   "execution_count": 74,
   "id": "d1b9f26e",
   "metadata": {},
   "outputs": [
    {
     "data": {
      "text/plain": [
       "lat     float32\n",
       "long    float32\n",
       "dtype: object"
      ]
     },
     "execution_count": 74,
     "metadata": {},
     "output_type": "execute_result"
    }
   ],
   "source": [
    "float_cols = list(df.select_dtypes(\"float\").columns)\n",
    "for c in float_cols:\n",
    "    df[c] = np.float32(df[c])\n",
    "df[float_cols].dtypes"
   ]
  },
  {
   "cell_type": "code",
   "execution_count": 75,
   "id": "2ed6fa53",
   "metadata": {},
   "outputs": [
    {
     "data": {
      "text/plain": [
       "dep      107\n",
       "com    11150\n",
       "adr    29668\n",
       "dtype: int64"
      ]
     },
     "execution_count": 75,
     "metadata": {},
     "output_type": "execute_result"
    }
   ],
   "source": [
    "nu = df.select_dtypes(\"object\").nunique()\n",
    "nu"
   ]
  },
  {
   "cell_type": "code",
   "execution_count": 76,
   "id": "1bdb5a98",
   "metadata": {},
   "outputs": [
    {
     "name": "stdout",
     "output_type": "stream",
     "text": [
      "total_memory = 11.1MB\n"
     ]
    },
    {
     "data": {
      "text/plain": [
       "Index    0.0\n",
       "dep      3.3\n",
       "com      3.5\n",
       "adr      4.3\n",
       "dtype: float64"
      ]
     },
     "execution_count": 76,
     "metadata": {},
     "output_type": "execute_result"
    }
   ],
   "source": [
    "obj_cols = list(df.select_dtypes(\"object\").columns)\n",
    "print_memory(df, obj_cols)"
   ]
  },
  {
   "cell_type": "code",
   "execution_count": 77,
   "id": "b17b10ed",
   "metadata": {},
   "outputs": [
    {
     "data": {
      "text/plain": [
       "dep    category\n",
       "com    category\n",
       "adr    category\n",
       "dtype: object"
      ]
     },
     "execution_count": 77,
     "metadata": {},
     "output_type": "execute_result"
    }
   ],
   "source": [
    "for c in obj_cols:\n",
    "    df[c] = df[c].astype(\"category\")\n",
    "df[obj_cols].dtypes"
   ]
  },
  {
   "cell_type": "code",
   "execution_count": 78,
   "id": "98e13e3a",
   "metadata": {},
   "outputs": [
    {
     "name": "stdout",
     "output_type": "stream",
     "text": [
      "total_memory = 6.6MB\n"
     ]
    },
    {
     "data": {
      "text/plain": [
       "Index                0.0\n",
       "an_mois_jour_hrmn    0.5\n",
       "Num_Acc              0.5\n",
       "luminosity           0.1\n",
       "dep                  0.1\n",
       "com                  1.1\n",
       "agglomeration        0.1\n",
       "intersection         0.1\n",
       "weather              0.1\n",
       "collision            0.1\n",
       "adr                  3.5\n",
       "lat                  0.2\n",
       "long                 0.2\n",
       "dtype: float64"
      ]
     },
     "execution_count": 78,
     "metadata": {},
     "output_type": "execute_result"
    }
   ],
   "source": [
    "print_memory(df)"
   ]
  },
  {
   "cell_type": "code",
   "execution_count": null,
   "id": "d99bddb4",
   "metadata": {},
   "outputs": [],
   "source": []
  },
  {
   "cell_type": "code",
   "execution_count": null,
   "id": "295ab1a9",
   "metadata": {},
   "outputs": [],
   "source": []
  },
  {
   "cell_type": "code",
   "execution_count": null,
   "id": "e1b2792f",
   "metadata": {},
   "outputs": [],
   "source": []
  }
 ],
 "metadata": {
  "kernelspec": {
   "display_name": "Python 3 (ipykernel)",
   "language": "python",
   "name": "python3"
  },
  "language_info": {
   "codemirror_mode": {
    "name": "ipython",
    "version": 3
   },
   "file_extension": ".py",
   "mimetype": "text/x-python",
   "name": "python",
   "nbconvert_exporter": "python",
   "pygments_lexer": "ipython3",
   "version": "3.10.10"
  }
 },
 "nbformat": 4,
 "nbformat_minor": 5
}
